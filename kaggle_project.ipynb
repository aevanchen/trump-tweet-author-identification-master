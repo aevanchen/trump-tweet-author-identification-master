{
 "cells": [
  {
   "cell_type": "code",
   "execution_count": 1,
   "metadata": {},
   "outputs": [],
   "source": [
    "# import modules\n",
    "import pandas as pd\n",
    "import re\n",
    "import string\n",
    "import nltk\n",
    "import numpy as np\n",
    "from nltk.corpus import stopwords\n",
    "\n",
    "from sklearn import preprocessing\n",
    "from sklearn.preprocessing import StandardScaler\n",
    "from sklearn.model_selection import train_test_split\n",
    "from nltk.sentiment.vader import SentimentIntensityAnalyzer as SIA\n",
    "from nltk.stem.snowball import SnowballStemmer\n",
    "from dateutil import parser\n",
    "from sklearn.feature_extraction.text import CountVectorizer\n",
    "from sklearn.feature_extraction.text import TfidfTransformer\n",
    "from sklearn.feature_extraction.text import TfidfVectorizer\n",
    "from sklearn.ensemble import RandomForestClassifier\n",
    "import pandas as pd\n",
    "\n",
    "from sklearn.svm import SVC\n",
    "from sklearn.naive_bayes import GaussianNB\n",
    "from sklearn.ensemble import AdaBoostClassifier\n",
    "from sklearn.ensemble import GradientBoostingClassifier\n",
    "\n",
    "from sklearn.neighbors import KNeighborsClassifier"
   ]
  },
  {
   "cell_type": "code",
   "execution_count": 2,
   "metadata": {},
   "outputs": [],
   "source": [
    "# read data\n",
    "trn = pd.read_csv(\"train.csv\")"
   ]
  },
  {
   "cell_type": "code",
   "execution_count": 3,
   "metadata": {},
   "outputs": [],
   "source": [
    "def removeURL(text):\n",
    "    \"\"\"\n",
    "    \n",
    "    \"\"\"\n",
    "    if 'https' in text:\n",
    "        ret = re.sub(r'https\\S+', '', text)\n",
    "        return ret, 1\n",
    "    else:\n",
    "        return text, 0\n",
    "\n",
    "def removeAt(text):\n",
    "    if '@' in text:\n",
    "        ret = re.sub(r'@\\S+', '', text)\n",
    "        return ret, 1\n",
    "    else:\n",
    "        return text, 0\n",
    "\n",
    "def removeHashtag(text):\n",
    "    if '#' in text:\n",
    "        ret = re.sub(r'#\\S+', '', text)\n",
    "        return ret, 1\n",
    "    else:\n",
    "        return text, 0"
   ]
  },
  {
   "cell_type": "code",
   "execution_count": 24,
   "metadata": {},
   "outputs": [],
   "source": [
    "vectorizer = TfidfVectorizer(stop_words='english',max_features =10)\n",
    "def sentence_word_length(text):\n",
    " \n",
    "    sentence_lengths = []\n",
    "    word_lengths = []\n",
    "    \n",
    "    text=re.sub(r\"[\\?\\!]\",r\" .\",text)\n",
    "    sentences = [s.strip() for s in re.split('[\\.]', text) if s]\n",
    "    \n",
    "    sentences=list(filter(None,sentences))\n",
    "    if(sentences == []):\n",
    "        return (1,1)\n",
    "    for sentence in sentences:\n",
    "        words = sentence.split()\n",
    "        word_lengths = word_lengths + [len(word) for word in words]\n",
    "        sentence_length = len(words)\n",
    "        sentence_lengths.append(sentence_length)\n",
    "    #print(sentence_lengths)\n",
    "    return (sum(sentence_lengths) / float(len(sentence_lengths)),\n",
    "            sum(word_lengths) / float(len(word_lengths)))\n",
    "\n",
    "def process(data,mode='train'):\n",
    "    \n",
    "    nRows = len(data.text)\n",
    "    analyser = SIA()\n",
    "   \n",
    "    urls = np.zeros((nRows, 1), dtype=float)\n",
    "    ats = np.zeros((nRows, 1), dtype=float)\n",
    "    hashtags = np.zeros((nRows, 1), dtype=float)\n",
    "    tweetlength=np.zeros((nRows, 1), dtype=float)\n",
    "    quoted=np.zeros((nRows,1),dtype=float)\n",
    "    allcap=np.zeros((nRows,1),dtype=float)\n",
    "    sentiment=np.zeros((nRows,4),dtype=float)\n",
    "    tokenArr = []\n",
    "    sent_word_length=np.zeros((nRows,2),dtype=float)\n",
    "    hours=np.zeros((nRows,1),dtype=float)\n",
    "    \n",
    "    \n",
    "    removewords = stopwords.words(\"english\") + [\"via\"] + list(string.punctuation)\n",
    "    \n",
    "    punctuation_dict = {'commas': ',', 'semicolons': ';', 'exclamations': '!',\n",
    "                        'periods': '.', 'questions': '?', 'quotes': '\"',\n",
    "                        'ellipses': '...'}\n",
    "    puncutation_count=np.zeros((nRows,len(punctuation_dict.keys())))\n",
    "   # df = punctuation_columns(df, 'text', punctuation_dict)\n",
    "    \n",
    "    \n",
    "    filtered_text=[]\n",
    "    \n",
    "    text=data.text.tolist()\n",
    "    for idx in range(len(text)):\n",
    "        # remove special characters\n",
    "        \n",
    "        quoted[idx]=(0 if re.match('^\"@', text[idx]) is None else 1)\n",
    "        for i,p in enumerate(list(punctuation_dict.values())):\n",
    "            puncutation_count[idx][i]=text[idx].count(p)\n",
    "        allcap[idx]=len(re.findall('\\s([A-Z][A-Z]+)',text[idx]))\n",
    "        row = text[idx].lower()\n",
    "        row, urls[idx] = removeURL(row)\n",
    "        row, ats[idx] = removeAt(row)\n",
    "        row, hashtags[idx] = removeHashtag(row)\n",
    "        # remove punctuations\n",
    "        tweetlength[idx]=len(row)\n",
    "        sent_word_length[idx]=list(sentence_word_length(re.sub(r\"([\\.\\!\\?])\",r\" \\1\",row)))\n",
    "        filtered_text.append(row)\n",
    "        sentiment_sore=analyser.polarity_scores(row)\n",
    "        sentiment[idx]=[sentiment_sore['neg'],sentiment_sore['neu'],sentiment_sore['pos'],sentiment_sore['compound']]\n",
    "        tokens = nltk.word_tokenize(row)\n",
    "        \n",
    "        tokens = [token for token in tokens if token not in removewords]\n",
    "        # hash count\n",
    "        txtFeature = np.zeros(15)\n",
    "        for token in tokens:\n",
    "            txtFeature[hash(token) % 15] += 1\n",
    "        txtFeature += 1\n",
    "        tokenArr.append(txtFeature)\n",
    "        \n",
    "    tokenArr = np.array(tokenArr, dtype=float)\n",
    "    \n",
    "    #tf-idf\n",
    "    \n",
    "    if(mode=='train'):  \n",
    "         vectorizer.fit_transform(filtered_text) \n",
    "    freq_term_matrix = vectorizer.transform(filtered_text)\n",
    "\n",
    "    tf_idf=freq_term_matrix.todense()\n",
    "    #print(tf_idf.shape)\n",
    "    # add in timestamp\n",
    "    tsArr = []\n",
    "    date=data.created.tolist()\n",
    "    days=np.zeros((nRows,1),dtype=float)\n",
    "    times=np.zeros((nRows,1),dtype=float)\n",
    "    weekend=np.zeros((nRows,1),dtype=float)\n",
    "    \n",
    "    for idx in range(len(date)):\n",
    "        ts = parser.parse(date[idx]).timestamp()\n",
    "        h=parser.parse(date[idx]).hour\n",
    "        times[idx]=h\n",
    "        \n",
    "        days[idx]=parser.parse(date[idx]).weekday()\n",
    "        if parser.parse(date[idx]).weekday()==5 or parser.parse(date[idx]).weekday()==6:\n",
    "            weekend[idx]=1\n",
    "        else:\n",
    "            weekend[idx]=0\n",
    "#         print(ts)\n",
    "        tsArr.append(ts)\n",
    "        hours[idx]=h\n",
    "    tsArr = np.array(tsArr, dtype=float)    \n",
    "    \n",
    "    res = np.array(data[['favoriteCount', 'retweetCount']])\n",
    "    res = np.column_stack((res, urls, ats, hashtags,tweetlength,puncutation_count,allcap,quoted,sent_word_length,days,weekend))\n",
    "    return res"
   ]
  },
  {
   "cell_type": "code",
   "execution_count": 25,
   "metadata": {},
   "outputs": [],
   "source": [
    "lbl=trn.label\n",
    "xTrn, xTst, yTrn, yTst = train_test_split(trn, lbl, test_size=0.2, random_state=42)\n",
    "xTrn=process(xTrn)\n",
    "xTst=process(xTst,'test')\n",
    "from sklearn.preprocessing import normalize, scale\n",
    "\n",
    "def preprocess(data):\n",
    "  #  data = scale(data, axis=0)\n",
    "    return normalize(data, axis=0)\n",
    "\n",
    "xTrnNorm = preprocess(xTrn)\n",
    "xTstNorm = preprocess(xTst)\n"
   ]
  },
  {
   "cell_type": "code",
   "execution_count": 7,
   "metadata": {},
   "outputs": [
    {
     "data": {
      "image/png": "[encoded data removed]",
      "text/plain": [
       "<Figure size 864x720 with 1 Axes>"
      ]
     },
     "metadata": {},
     "output_type": "display_data"
    }
   ],
   "source": [
    "from sklearn.decomposition import PCA\n",
    "import matplotlib.pyplot as plt\n",
    "pca = PCA()\n",
    "pca.fit(xTrnNorm)\n",
    "explained_variance = pca.explained_variance_ratio_\n",
    "n_components=[2,10,12,13,14,15,16,20,30]\n",
    "cumulative_var =[np.sum(explained_variance[:i+1]) for i in n_components]\n",
    "fig2 = plt.figure(figsize = (12,10))\n",
    "plt.plot(n_components, cumulative_var, 'ro')\n",
    "plt.grid(True, which = 'both')\n",
    "plt.yticks(cumulative_var)\n",
    "plt.xticks(n_components)\n",
    "plt.ylabel(\"Explained Variance Ratio\")\n",
    "plt.xlabel(\"No. of Principle Components\")\n",
    "plt.show()\n",
    "plt.show()"
   ]
  },
  {
   "cell_type": "code",
   "execution_count": 15,
   "metadata": {},
   "outputs": [
    {
     "name": "stdout",
     "output_type": "stream",
     "text": [
      "0.8669724770642202\n",
      "0.8669724770642202\n",
      "0.8623853211009175\n",
      "0.5871559633027523\n",
      "0.8394495412844036\n",
      "0.8669724770642202\n"
     ]
    }
   ],
   "source": [
    "#different models\n",
    "\n",
    "from sklearn.ensemble import RandomForestClassifier\n",
    "clf = RandomForestClassifier(n_estimators=2000, max_depth=5, random_state=2)\n",
    "clf.fit(xTrnNorm, yTrn)\n",
    "\n",
    "# validation\n",
    "pred = clf.predict(xTstNorm)\n",
    "isAcc = pred == yTst\n",
    "acc = np.count_nonzero(isAcc) / len(isAcc)\n",
    "print(acc)\n",
    "\n",
    "from sklearn.ensemble import AdaBoostClassifier\n",
    "clf = AdaBoostClassifier(n_estimators =5,learning_rate =0.4)\n",
    "clf.fit(xTrnNorm, yTrn)\n",
    "pred = clf.predict(xTstNorm)\n",
    "isAcc = pred == yTst\n",
    "acc = np.count_nonzero(isAcc) / len(isAcc)\n",
    "print(acc)\n",
    "\n",
    "from sklearn.ensemble import GradientBoostingClassifier\n",
    "clf = GradientBoostingClassifier(n_estimators =100,learning_rate =0.1,max_depth=1)\n",
    "clf.fit(xTrnNorm, yTrn)\n",
    "pred = clf.predict(xTstNorm)\n",
    "isAcc = pred == yTst\n",
    "acc = np.count_nonzero(isAcc) / len(isAcc)\n",
    "print(acc)\n",
    "\n",
    "from sklearn.svm import SVC\n",
    "clf = SVC(gamma='auto')\n",
    "clf.fit(xTrnNorm, yTrn)\n",
    "pred = clf.predict(xTstNorm)\n",
    "isAcc = pred == yTst\n",
    "acc = np.count_nonzero(isAcc) / len(isAcc)\n",
    "print(acc)\n",
    "\n",
    "clf = GaussianNB()\n",
    "clf.fit(xTrnNorm, yTrn)\n",
    "pred = clf.predict(xTstNorm)\n",
    "isAcc = pred == yTst\n",
    "acc = np.count_nonzero(isAcc) / len(isAcc)\n",
    "print(acc)\n",
    "\n",
    "from sklearn.neighbors import KNeighborsClassifier\n",
    "clf = KNeighborsClassifier(n_neighbors=3)\n",
    "clf.fit(xTrnNorm, yTrn)\n",
    "pred = clf.predict(xTstNorm)\n",
    "isAcc = pred == yTst\n",
    "acc = np.count_nonzero(isAcc) / len(isAcc)\n",
    "print(acc)\n"
   ]
  },
  {
   "cell_type": "code",
   "execution_count": 16,
   "metadata": {},
   "outputs": [
    {
     "name": "stdout",
     "output_type": "stream",
     "text": [
      "0.8073394495412844\n",
      "0.8027522935779816\n"
     ]
    }
   ],
   "source": [
    "pca = PCA(n_components=2)\n",
    "pca.fit(xTrnNorm)\n",
    "xTrnNorm1 = pca.transform(xTrnNorm)\n",
    "xTstNorm1 = pca.transform(xTstNorm)\n",
    "\n",
    "\n",
    "from sklearn.svm import SVC\n",
    "clf = SVC(gamma='auto')\n",
    "clf.fit(xTrnNorm1, yTrn)\n",
    "pred = clf.predict(xTstNorm1)\n",
    "isAcc = pred == yTst\n",
    "acc = np.count_nonzero(isAcc) / len(isAcc)\n",
    "print(acc)\n",
    "\n",
    "clf = GaussianNB()\n",
    "clf.fit(xTrnNorm1, yTrn)\n",
    "pred = clf.predict(xTstNorm1)\n",
    "isAcc = pred == yTst\n",
    "acc = np.count_nonzero(isAcc) / len(isAcc)\n",
    "print(acc)\n",
    "\n"
   ]
  },
  {
   "cell_type": "code",
   "execution_count": 26,
   "metadata": {},
   "outputs": [],
   "source": [
    "\n",
    "from sklearn.ensemble import RandomForestClassifier\n",
    "x=[1,2,3,4,5,6,7,8,9]\n",
    "acc_total=np.zeros(len(x))\n",
    "for i,depth in enumerate(x):\n",
    "    clf = RandomForestClassifier(n_estimators=2000, max_depth=depth, random_state=2)\n",
    "    clf.fit(xTrnNorm, yTrn)\n",
    "\n",
    "    # validation\n",
    "    pred = clf.predict(xTstNorm)\n",
    "    isAcc = pred == yTst\n",
    "    acc = np.count_nonzero(isAcc) / len(isAcc)\n",
    "    acc_total[i]=acc\n"
   ]
  },
  {
   "cell_type": "code",
   "execution_count": 27,
   "metadata": {},
   "outputs": [
    {
     "data": {
      "image/png": "[encoded data removed]",
      "text/plain": [
       "<Figure size 864x720 with 1 Axes>"
      ]
     },
     "metadata": {},
     "output_type": "display_data"
    }
   ],
   "source": [
    "fig3 = plt.figure(figsize = (12,10))\n",
    "plt.plot(x, acc_total, 'ro-')\n",
    "plt.grid(True, which = 'both')\n",
    "plt.yticks(acc_total)\n",
    "plt.xticks(x)\n",
    "plt.ylabel(\"Accuracy\")\n",
    "plt.xlabel(\"Depth\")\n",
    "plt.show()"
   ]
  },
  {
   "cell_type": "code",
   "execution_count": 20,
   "metadata": {},
   "outputs": [
    {
     "name": "stdout",
     "output_type": "stream",
     "text": [
      "0.8669724770642202\n"
     ]
    }
   ],
   "source": [
    "from sklearn.ensemble import AdaBoostClassifier\n",
    "clf = AdaBoostClassifier(n_estimators =5,learning_rate =0.4)\n",
    "clf.fit(xTrnNorm, yTrn)\n",
    "pred = clf.predict(xTstNorm)\n",
    "isAcc = pred == yTst\n",
    "acc = np.count_nonzero(isAcc) / len(isAcc)\n",
    "print(acc)\n"
   ]
  },
  {
   "cell_type": "code",
   "execution_count": 689,
   "metadata": {},
   "outputs": [
    {
     "name": "stdout",
     "output_type": "stream",
     "text": [
      "0.8577981651376146\n"
     ]
    }
   ],
   "source": [
    "\n",
    "clf = GradientBoostingClassifier(n_estimators =75,learning_rate =0.1,max_depth=1)\n",
    "clf.fit(xTrnNorm, yTrn)\n",
    "pred = clf.predict(xTstNorm)\n",
    "isAcc = pred == yTst\n",
    "acc = np.count_nonzero(isAcc) / len(isAcc)\n",
    "print(acc)"
   ]
  },
  {
   "cell_type": "code",
   "execution_count": 32,
   "metadata": {},
   "outputs": [
    {
     "data": {
      "text/plain": [
       "(1089, 19)"
      ]
     },
     "execution_count": 32,
     "metadata": {},
     "output_type": "execute_result"
    }
   ],
   "source": [
    "trnNorm.shape"
   ]
  },
  {
   "cell_type": "code",
   "execution_count": 40,
   "metadata": {
    "scrolled": true
   },
   "outputs": [
    {
     "name": "stderr",
     "output_type": "stream",
     "text": [
      "C:\\Users\\pc\\Anaconda3\\lib\\site-packages\\ipykernel_launcher.py:24: SettingWithCopyWarning: \n",
      "A value is trying to be set on a copy of a slice from a DataFrame\n",
      "\n",
      "See the caveats in the documentation: http://pandas.pydata.org/pandas-docs/stable/indexing.html#indexing-view-versus-copy\n"
     ]
    },
    {
     "name": "stdout",
     "output_type": "stream",
     "text": [
      "_________________________________________________________________\n",
      "Layer (type)                 Output Shape              Param #   \n",
      "=================================================================\n",
      "dense_9 (Dense)              (None, 256)               5120      \n",
      "_________________________________________________________________\n",
      "dropout_5 (Dropout)          (None, 256)               0         \n",
      "_________________________________________________________________\n",
      "dense_10 (Dense)             (None, 2)                 514       \n",
      "=================================================================\n",
      "Total params: 5,634\n",
      "Trainable params: 5,634\n",
      "Non-trainable params: 0\n",
      "_________________________________________________________________\n",
      "Epoch 1/3\n",
      "1089/1089 [==============================] - 1s 1ms/step - loss: 0.4028 - acc: 0.8292\n",
      "Epoch 2/3\n",
      "1089/1089 [==============================] - 1s 1ms/step - loss: 0.3088 - acc: 0.8669\n",
      "Epoch 3/3\n",
      "1089/1089 [==============================] - 1s 964us/step - loss: 0.3153 - acc: 0.8696\n"
     ]
    },
    {
     "data": {
      "text/plain": [
       "<keras.callbacks.History at 0xd4bebfea58>"
      ]
     },
     "execution_count": 40,
     "metadata": {},
     "output_type": "execute_result"
    }
   ],
   "source": [
    "from keras.utils.np_utils import to_categorical # convert to one-hot-encoding\n",
    "from keras.models import Sequential\n",
    "from keras.layers import Dense, Dropout, Flatten, Conv2D, MaxPool2D,UpSampling2D\n",
    "from keras.optimizers import RMSprop, Adam\n",
    "from keras.callbacks import ReduceLROnPlateau\n",
    "\n",
    "\n",
    "processedTrn=process(trn)\n",
    "trnNorm = preprocess(processedTrn)\n",
    "# do test\n",
    "\n",
    "\n",
    "tst = pd.read_csv('test.csv')\n",
    "\n",
    "processedTst = process(tst,'test')\n",
    "\n",
    "tstNorm = preprocess(processedTst)\n",
    "\n",
    "pca = PCA(n_components=3)\n",
    "pca.fit(trnNorm)\n",
    "xTrnNorm1 = pca.transform(trnNorm)\n",
    "xTstNorm1 = pca.transform(tstNorm)\n",
    "\n",
    "lbl[lbl==-1]=0\n",
    "lbl\n",
    "trn1=trnNorm.reshape((-1,trnNorm.shape[1]))\n",
    "tst1=tstNorm.reshape((-1,trnNorm.shape[1]))\n",
    "train_l = to_categorical(lbl , num_classes = 2)\n",
    "x_trn, x_tst, y_trn,y_tst = train_test_split(trn1, train_l, test_size = 0, random_state=0)\n",
    "\n",
    "model = Sequential()\n",
    "model.add(Dense(256, input_dim=trnNorm.shape[1],kernel_initializer='normal',activation ='relu'))\n",
    "model.add(Dropout(0.2))\n",
    "\n",
    "model.add(Dense(2, activation = \"softmax\"))\n",
    "# Define the optimizer\n",
    "optimizer = Adam(lr=0.005)\n",
    "\n",
    "epochs = 3 # Turn epochs to 30 to get 0.9967 accuracy\n",
    "size = 1\n",
    "# Compile the model\n",
    "model.compile(optimizer = optimizer , loss = \"categorical_crossentropy\", metrics=[\"accuracy\"])\n",
    "# Set a learning rate annealer\n",
    "learning_rate_reduction = ReduceLROnPlateau(monitor='acc', \n",
    "                                            patience=4, \n",
    "                                            verbose=1, \n",
    "                                            factor=0.75, \n",
    "                                            min_lr=0.00001)\n",
    "model.summary()          \n",
    "model.fit(x_trn,y_trn, batch_size=size, epochs = epochs,verbose = 1, callbacks=[learning_rate_reduction])\n"
   ]
  },
  {
   "cell_type": "code",
   "execution_count": 41,
   "metadata": {},
   "outputs": [
    {
     "data": {
      "text/plain": [
       "array([ 1, -1, -1,  1,  1,  1, -1, -1,  1, -1,  1,  1,  1,  1, -1, -1, -1,\n",
       "       -1, -1, -1,  1, -1,  1,  1, -1, -1, -1, -1, -1, -1, -1, -1, -1,  1,\n",
       "        1,  1, -1, -1,  1, -1, -1, -1, -1, -1, -1, -1, -1,  1,  1, -1, -1,\n",
       "        1,  1, -1, -1, -1, -1,  1,  1,  1,  1,  1,  1, -1, -1,  1,  1,  1,\n",
       "        1,  1,  1,  1,  1,  1,  1, -1,  1, -1,  1,  1,  1, -1,  1,  1,  1,\n",
       "       -1,  1,  1,  1, -1, -1, -1,  1,  1, -1, -1, -1, -1, -1,  1,  1, -1,\n",
       "        1, -1,  1, -1,  1, -1,  1, -1,  1, -1,  1,  1,  1,  1,  1,  1,  1,\n",
       "        1,  1, -1, -1, -1, -1,  1,  1, -1,  1,  1,  1,  1,  1, -1, -1, -1,\n",
       "       -1, -1, -1,  1, -1,  1,  1,  1,  1,  1,  1,  1, -1,  1,  1,  1,  1,\n",
       "        1,  1, -1,  1,  1,  1, -1, -1, -1,  1,  1,  1,  1,  1,  1,  1,  1,\n",
       "        1,  1,  1, -1, -1, -1, -1, -1,  1,  1,  1,  1,  1,  1,  1,  1,  1,\n",
       "        1,  1,  1,  1,  1,  1,  1,  1, -1,  1,  1,  1,  1,  1,  1,  1,  1,\n",
       "        1,  1,  1,  1,  1,  1,  1,  1,  1,  1,  1,  1, -1, -1, -1, -1,  1,\n",
       "        1,  1, -1,  1,  1, -1,  1, -1,  1, -1, -1,  1, -1,  1,  1,  1,  1,\n",
       "        1, -1, -1,  1, -1, -1, -1,  1,  1, -1,  1,  1,  1,  1,  1, -1,  1,\n",
       "        1,  1,  1,  1,  1,  1,  1,  1,  1, -1,  1,  1,  1,  1, -1, -1,  1,\n",
       "        1,  1,  1,  1,  1, -1, -1,  1,  1,  1, -1, -1, -1,  1, -1, -1,  1,\n",
       "       -1,  1,  1,  1, -1,  1,  1, -1,  1,  1, -1], dtype=int64)"
      ]
     },
     "execution_count": 41,
     "metadata": {},
     "output_type": "execute_result"
    }
   ],
   "source": [
    "y_pred=model.predict(tstNorm)\n",
    "y_pred_classes  = np.argmax(y_pred,axis = 1)\n",
    "y_pred_classes[y_pred_classes==0]=-1\n",
    "y_pred_classes"
   ]
  },
  {
   "cell_type": "code",
   "execution_count": 42,
   "metadata": {},
   "outputs": [
    {
     "name": "stdout",
     "output_type": "stream",
     "text": [
      "done\n"
     ]
    }
   ],
   "source": [
    "\n",
    "\n",
    "prediction = []\n",
    "for i,d in enumerate(y_pred_classes):\n",
    "    prediction.append((i,d))\n",
    "\n",
    "labels = ['ID','Label']\n",
    "df = pd.DataFrame.from_records(prediction, columns=labels)\n",
    "df.to_csv(\"nn9.csv\",index=False,header=True,sep=\",\")\n",
    "print('done')\n",
    "    \n"
   ]
  },
  {
   "cell_type": "code",
   "execution_count": null,
   "metadata": {},
   "outputs": [],
   "source": []
  },
  {
   "cell_type": "code",
   "execution_count": null,
   "metadata": {},
   "outputs": [],
   "source": []
  }
 ],
 "metadata": {
  "kernelspec": {
   "display_name": "Python 3",
   "language": "python",
   "name": "python3"
  },
  "language_info": {
   "codemirror_mode": {
    "name": "ipython",
    "version": 3
   },
   "file_extension": ".py",
   "mimetype": "text/x-python",
   "name": "python",
   "nbconvert_exporter": "python",
   "pygments_lexer": "ipython3",
   "version": "3.6.5"
  }
 },
 "nbformat": 4,
 "nbformat_minor": 2
}
